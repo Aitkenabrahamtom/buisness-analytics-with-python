{
  "nbformat": 4,
  "nbformat_minor": 0,
  "metadata": {
    "colab": {
      "name": "Untitled0.ipynb",
      "provenance": []
    },
    "kernelspec": {
      "name": "python3",
      "display_name": "Python 3"
    },
    "language_info": {
      "name": "python"
    }
  },
  "cells": [
    {
      "cell_type": "code",
      "execution_count": 2,
      "metadata": {
        "colab": {
          "base_uri": "https://localhost:8080/"
        },
        "id": "xSmZvM_qRlJJ",
        "outputId": "dc92d428-d488-46db-cf1a-959af5f574d8"
      },
      "outputs": [
        {
          "name": "stdout",
          "output_type": "stream",
          "text": [
            "enter the first number 63\n",
            "enter the second number56\n"
          ]
        }
      ],
      "source": [
        "x=int(input(\"enter the first number\"))\n",
        "y=int(input(\"enter the second number\"))"
      ]
    },
    {
      "cell_type": "code",
      "source": [
        "x+y"
      ],
      "metadata": {
        "colab": {
          "base_uri": "https://localhost:8080/"
        },
        "id": "mauREtxNSBc2",
        "outputId": "34c425e4-2d48-46bb-be04-7c4452ded1ec"
      },
      "execution_count": 3,
      "outputs": [
        {
          "output_type": "execute_result",
          "data": {
            "text/plain": [
              "119"
            ]
          },
          "metadata": {},
          "execution_count": 3
        }
      ]
    },
    {
      "cell_type": "code",
      "source": [
        "x-y"
      ],
      "metadata": {
        "colab": {
          "base_uri": "https://localhost:8080/"
        },
        "id": "hvVsHkGLSraO",
        "outputId": "68c3b9e5-b76c-4bdb-e557-410edbe95755"
      },
      "execution_count": 4,
      "outputs": [
        {
          "output_type": "execute_result",
          "data": {
            "text/plain": [
              "7"
            ]
          },
          "metadata": {},
          "execution_count": 4
        }
      ]
    },
    {
      "cell_type": "code",
      "source": [
        "x/y"
      ],
      "metadata": {
        "colab": {
          "base_uri": "https://localhost:8080/"
        },
        "id": "xHqe5f2IStol",
        "outputId": "0f70116a-93bb-47c3-ae0b-23623ad7c935"
      },
      "execution_count": 5,
      "outputs": [
        {
          "output_type": "execute_result",
          "data": {
            "text/plain": [
              "1.125"
            ]
          },
          "metadata": {},
          "execution_count": 5
        }
      ]
    },
    {
      "cell_type": "code",
      "source": [
        "x*y"
      ],
      "metadata": {
        "colab": {
          "base_uri": "https://localhost:8080/"
        },
        "id": "oqx5RvsvSvb-",
        "outputId": "9d367d78-6dee-402f-fc05-1c331eb090a8"
      },
      "execution_count": 6,
      "outputs": [
        {
          "output_type": "execute_result",
          "data": {
            "text/plain": [
              "3528"
            ]
          },
          "metadata": {},
          "execution_count": 6
        }
      ]
    },
    {
      "cell_type": "code",
      "source": [
        "p=600\n",
        "n=900\n",
        "r=4000"
      ],
      "metadata": {
        "id": "guMObBI0SxkQ"
      },
      "execution_count": 7,
      "outputs": []
    },
    {
      "cell_type": "code",
      "source": [
        "i=p*n*r"
      ],
      "metadata": {
        "id": "Yh8so9xBUHcl"
      },
      "execution_count": 8,
      "outputs": []
    },
    {
      "cell_type": "code",
      "source": [
        "print(i)"
      ],
      "metadata": {
        "colab": {
          "base_uri": "https://localhost:8080/"
        },
        "id": "ToT2R9NkULhm",
        "outputId": "f603123b-a9be-4770-9743-58c259023926"
      },
      "execution_count": 9,
      "outputs": [
        {
          "output_type": "stream",
          "name": "stdout",
          "text": [
            "2160000000\n"
          ]
        }
      ]
    },
    {
      "cell_type": "code",
      "source": [
        "p=int(input(\"enter the first number\"))\n",
        "n=int(input(\"enter the second number\"))\n",
        "r=int(input(\"enter the third number\"))\n"
      ],
      "metadata": {
        "colab": {
          "base_uri": "https://localhost:8080/"
        },
        "id": "xTNCAkGAUh6j",
        "outputId": "6918b1fe-d300-41d9-d0e8-0ede9c875a92"
      },
      "execution_count": 10,
      "outputs": [
        {
          "name": "stdout",
          "output_type": "stream",
          "text": [
            "enter the first number400\n",
            "enter the second number700\n",
            "enter the third number69\n"
          ]
        }
      ]
    },
    {
      "cell_type": "code",
      "source": [
        "i=p*n*r"
      ],
      "metadata": {
        "id": "Lv_KWMiMVCBq"
      },
      "execution_count": 12,
      "outputs": []
    },
    {
      "cell_type": "code",
      "source": [
        "print(I)"
      ],
      "metadata": {
        "colab": {
          "base_uri": "https://localhost:8080/",
          "height": 165
        },
        "id": "ViZkd90FVHkV",
        "outputId": "7c3bf4d3-637d-4463-fa3f-0c5060445f91"
      },
      "execution_count": 13,
      "outputs": [
        {
          "output_type": "error",
          "ename": "NameError",
          "evalue": "ignored",
          "traceback": [
            "\u001b[0;31m---------------------------------------------------------------------------\u001b[0m",
            "\u001b[0;31mNameError\u001b[0m                                 Traceback (most recent call last)",
            "\u001b[0;32m<ipython-input-13-75c47720d0ec>\u001b[0m in \u001b[0;36m<module>\u001b[0;34m()\u001b[0m\n\u001b[0;32m----> 1\u001b[0;31m \u001b[0mprint\u001b[0m\u001b[0;34m(\u001b[0m\u001b[0mI\u001b[0m\u001b[0;34m)\u001b[0m\u001b[0;34m\u001b[0m\u001b[0;34m\u001b[0m\u001b[0m\n\u001b[0m",
            "\u001b[0;31mNameError\u001b[0m: name 'I' is not defined"
          ]
        }
      ]
    },
    {
      "cell_type": "code",
      "source": [
        "print(i)"
      ],
      "metadata": {
        "colab": {
          "base_uri": "https://localhost:8080/"
        },
        "id": "4-Q94tqbVegS",
        "outputId": "e4fcf59c-5a95-4b57-ca24-be6166e409f6"
      },
      "execution_count": 14,
      "outputs": [
        {
          "output_type": "stream",
          "name": "stdout",
          "text": [
            "19320000\n"
          ]
        }
      ]
    },
    {
      "cell_type": "code",
      "source": [
        "x=int(input(\"enter your mark\"))"
      ],
      "metadata": {
        "colab": {
          "base_uri": "https://localhost:8080/"
        },
        "id": "s58AstqAVh6W",
        "outputId": "ce4336c3-6771-438e-e1e6-28879b87684c"
      },
      "execution_count": 15,
      "outputs": [
        {
          "name": "stdout",
          "output_type": "stream",
          "text": [
            "enter your mark69\n"
          ]
        }
      ]
    },
    {
      "cell_type": "code",
      "source": [
        "if x > 50 :\n",
        "  print (\"you are pass\")\n",
        "if x<50 :\n",
        "  print (\"you are fail\")  "
      ],
      "metadata": {
        "colab": {
          "base_uri": "https://localhost:8080/"
        },
        "id": "b19Tnq2YX2Zq",
        "outputId": "3b3b5c16-7350-4879-b0b6-db53b3fbea8e"
      },
      "execution_count": 16,
      "outputs": [
        {
          "output_type": "stream",
          "name": "stdout",
          "text": [
            "you are pass\n"
          ]
        }
      ]
    },
    {
      "cell_type": "code",
      "source": [
        "x=int(input(\"enter the salary\"))"
      ],
      "metadata": {
        "colab": {
          "base_uri": "https://localhost:8080/"
        },
        "id": "SJyFxhLmYfzA",
        "outputId": "1814d046-fb49-416c-9c7d-5b0772081372"
      },
      "execution_count": 31,
      "outputs": [
        {
          "name": "stdout",
          "output_type": "stream",
          "text": [
            "enter the salary300000\n"
          ]
        }
      ]
    },
    {
      "cell_type": "code",
      "source": [
        "if x>200000 :\n",
        "  print(\"you are taxable\")\n",
        "  t=print('tax amount',x*10/100)\n",
        "if x<200000 :\n",
        "  print(\"you are not taxable\")  "
      ],
      "metadata": {
        "colab": {
          "base_uri": "https://localhost:8080/"
        },
        "id": "n8idKkk2au6y",
        "outputId": "2df180ef-5ca3-4f76-c775-632e27bfc205"
      },
      "execution_count": 33,
      "outputs": [
        {
          "output_type": "stream",
          "name": "stdout",
          "text": [
            "you are taxable\n",
            "tax amount 30000.0\n"
          ]
        }
      ]
    },
    {
      "cell_type": "code",
      "source": [
        "x=int(input(\"enter the salary\"))\n",
        "z=250000\n",
        "if x>=250000:\n",
        "   print(\"you are taxable\")\n",
        "   t=print('tax amt',(x-z)*10/100)\n",
        "if x<250000:\n",
        "   print(\"you are not taxable\")"
      ],
      "metadata": {
        "colab": {
          "base_uri": "https://localhost:8080/"
        },
        "id": "Qkk8z0C5cIuL",
        "outputId": "d7c00bb2-e6e8-4f89-a508-b50a82d27518"
      },
      "execution_count": 35,
      "outputs": [
        {
          "output_type": "stream",
          "name": "stdout",
          "text": [
            "enter the salary300000\n",
            "you are taxable\n",
            "tax amt 5000.0\n"
          ]
        }
      ]
    },
    {
      "cell_type": "code",
      "source": [
        "\n"
      ],
      "metadata": {
        "id": "kt1zoikNkNHf"
      },
      "execution_count": null,
      "outputs": []
    }
  ]
}